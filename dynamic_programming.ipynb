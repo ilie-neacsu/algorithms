{
 "cells": [
  {
   "cell_type": "markdown",
   "id": "8f27f2df-34e6-4d73-9248-f8b89341593a",
   "metadata": {},
   "source": [
    "# Dynamic Programming"
   ]
  },
  {
   "cell_type": "markdown",
   "id": "51d0b8d2-ea13-43fe-9102-d9b9ae2d21b5",
   "metadata": {},
   "source": [
    "## 1. Max Subset Sum No Adjacent"
   ]
  },
  {
   "cell_type": "markdown",
   "id": "15601355-00e1-4fd8-b3bc-603bb75c6ddc",
   "metadata": {},
   "source": [
    "<p>Write a function that takes in an array of positive integers and returns the maximum sum of non-adjacent elements in the array.</p>\n",
    "<b>Sample Input:</b>\n",
    "<pre>array = [75, 105, 120, 75, 90, 135]</pre>\n",
    "<b>Sample Output:</b> \n",
    "<pre>330 // 75 + 120 + 135</pre>"
   ]
  },
  {
   "cell_type": "code",
   "execution_count": 4,
   "id": "e9a1b8a2-4f31-4b66-a953-9a4342e4e80a",
   "metadata": {},
   "outputs": [],
   "source": [
    "def max_subset_sum_no_adjacent(array):\n",
    "    n = len(array)\n",
    "\n",
    "    if n == 0:\n",
    "        return 0\n",
    "\n",
    "    if n == 1: \n",
    "        return max(0, array[0])\n",
    "\n",
    "    max_sum = [0] * n\n",
    "    max_sum[0] = max(0, array[0])\n",
    "    \n",
    "    if n == 2:\n",
    "        return max(array[1], max_sum[0])\n",
    "        \n",
    "    max_sum[1] = max(array[1], max_sum[0])\n",
    "    \n",
    "    for i in range(2, n):\n",
    "        max_sum[i] = max(array[i] + max_sum[i - 2], max_sum[i - 1])\n",
    "\n",
    "    return max_sum[n - 1]"
   ]
  },
  {
   "cell_type": "code",
   "execution_count": 6,
   "id": "21f19ccf-7382-43cb-8194-37e4153c4248",
   "metadata": {},
   "outputs": [
    {
     "data": {
      "text/plain": [
       "330"
      ]
     },
     "execution_count": 6,
     "metadata": {},
     "output_type": "execute_result"
    }
   ],
   "source": [
    "array = [75, 105, 120, 75, 90, 135]\n",
    "max_subset_sum_no_adjacent(array)"
   ]
  },
  {
   "cell_type": "markdown",
   "id": "d828dec2-d6f2-424a-9f2b-895dfb72e111",
   "metadata": {},
   "source": [
    "## 2. Number Of Ways To Make Change"
   ]
  },
  {
   "cell_type": "markdown",
   "id": "78b8656c-c87e-4bfc-80de-6e693b65b706",
   "metadata": {},
   "source": [
    "<p>Given an array of distinct positive integers representing coin denominations and a single non-negative integer n representing a target amount of money, write a function that returns the number of ways to make change for that target amount using the given coin denominations. \n",
    "Note that an unlimited amount of coins is at your disposal.</p>\n",
    "\n",
    "<b>Sample Input:</b>\n",
    "<pre>\n",
    "n = 6  \n",
    "denoms = [1, 5]\n",
    "</pre>\n",
    "<b>Sample Output:</b>\n",
    "<pre>2 // 1x1 + 1x5 and 6x1</pre>"
   ]
  },
  {
   "cell_type": "code",
   "execution_count": 7,
   "id": "169553c0-5329-4bba-b6b3-e2f81b9ce2d8",
   "metadata": {},
   "outputs": [],
   "source": [
    "def number_of_ways_to_make_change(n, denoms):\n",
    "    ways = [0] * (n + 1)\n",
    "    ways[0] = 1\n",
    "    for denom in denoms:\n",
    "        for i in range(n + 1):\n",
    "            if denom <= i:\n",
    "                ways[i] += ways[i-denom]\n",
    "    return ways[n]\n"
   ]
  },
  {
   "cell_type": "code",
   "execution_count": 8,
   "id": "8c34cc2e-03f6-47c8-bf41-bbd450f289f0",
   "metadata": {},
   "outputs": [
    {
     "data": {
      "text/plain": [
       "2"
      ]
     },
     "execution_count": 8,
     "metadata": {},
     "output_type": "execute_result"
    }
   ],
   "source": [
    "n = 6  \n",
    "denoms = [1, 5]\n",
    "number_of_ways_to_make_change(n, denoms)"
   ]
  },
  {
   "cell_type": "code",
   "execution_count": null,
   "id": "1d5f78ce-6328-422e-a4f9-04006b013a05",
   "metadata": {},
   "outputs": [],
   "source": []
  }
 ],
 "metadata": {
  "kernelspec": {
   "display_name": "Python 3 (ipykernel)",
   "language": "python",
   "name": "python3"
  },
  "language_info": {
   "codemirror_mode": {
    "name": "ipython",
    "version": 3
   },
   "file_extension": ".py",
   "mimetype": "text/x-python",
   "name": "python",
   "nbconvert_exporter": "python",
   "pygments_lexer": "ipython3",
   "version": "3.12.4"
  }
 },
 "nbformat": 4,
 "nbformat_minor": 5
}
