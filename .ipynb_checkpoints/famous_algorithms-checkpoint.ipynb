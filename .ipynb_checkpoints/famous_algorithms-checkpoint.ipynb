{
 "cells": [
  {
   "cell_type": "markdown",
   "id": "06cfab3b-d196-4752-9a7c-746a88a35914",
   "metadata": {},
   "source": [
    "# 1 Topological Sort"
   ]
  },
  {
   "cell_type": "markdown",
   "id": "d9a0ca5e-a249-49b0-b474-8fc789718f16",
   "metadata": {},
   "source": [
    "## 1.1 Method One: Dept First Traversal"
   ]
  },
  {
   "cell_type": "markdown",
   "id": "6f822c20-7143-4f57-8a42-3088c8e3078b",
   "metadata": {},
   "source": [
    "### 1.1.1 Implemetation"
   ]
  },
  {
   "cell_type": "code",
   "execution_count": 15,
   "id": "91e5057b-9f72-4ea3-a0b2-d109db7e2ea7",
   "metadata": {},
   "outputs": [],
   "source": [
    "from typing import List, Dict\n",
    "\n",
    "class JobNode:\n",
    "\n",
    "    def __init__(self, job: int) -> None:\n",
    "        self.job: int = job\n",
    "        self.prereqs: List[JobNode] = []\n",
    "        self.visited: bool = False\n",
    "        self.visiting: bool = False\n",
    "\n",
    "    def add_prereq(self, prereq_node: JobNode) -> None:\n",
    "        self.prereqs.append(prereq_node)\n",
    "\n",
    "    def __repr__(self) -> str:\n",
    "        return f\"JobNode(job={self.job}, prereqs={self.prereqs}, visited={self.visited}, visiting={self.visiting})\"\n",
    "\n",
    "\n",
    "class JobGraph:\n",
    "\n",
    "    def __init__(self, jobs: List[int]) -> None:\n",
    "        self.jobs: List[int] = jobs\n",
    "        self.nodes: List[JobNode] = []\n",
    "        self.graph: Dict[int, JobNode] = {}\n",
    "        for job in self.jobs:\n",
    "            self.add_node(job)\n",
    "\n",
    "    def get_node(self, job) -> JobNode:\n",
    "        return self.graph[job]\n",
    "        \n",
    "    def add_node(self, job: int) -> None:\n",
    "        self.graph[job] = JobNode(job)\n",
    "        self.nodes.append(self.graph[job])\n",
    "\n",
    "    def __repr__(self) -> str:\n",
    "        return f\"JobGraph(jobs={self.jobs}, nodes={self.nodes}, graph={self.graph})\"\n",
    "\n",
    "\n",
    "def build_graph(jobs, deps) -> JobGraph:\n",
    "    job_graph: JobGraph = JobGraph(jobs)\n",
    "    for prereq, job in deps:\n",
    "        prereq_node = job_graph.get_node(prereq)\n",
    "        job_node = job_graph.get_node(job)\n",
    "        job_node.add_prereq(prereq_node)\n",
    "    return job_graph\n",
    "\n",
    "\n",
    "def get_ordered_jobs(job_graph) -> List[int]:\n",
    "    ordered_jobs: List[int] = []\n",
    "    while job_graph.nodes:\n",
    "        job_node = job_graph.nodes.pop()\n",
    "        contains_cycle = depth_first_traversal(job_node, ordered_jobs)\n",
    "        if contains_cycle:\n",
    "            return []\n",
    "    return ordered_jobs\n",
    "\n",
    "\n",
    "def depth_first_traversal(job_node: JobNode, ordered_jobs: List[int]) -> bool:\n",
    "    if job_node.visited:\n",
    "        return False\n",
    "    if job_node.visiting:\n",
    "        return True\n",
    "    job_node.visiting = True\n",
    "    for prereq_node in job_node.prereqs:\n",
    "        contains_cycle = depth_first_traversal(prereq_node, ordered_jobs)\n",
    "        if contains_cycle:\n",
    "            return True\n",
    "    job_node.visited = True\n",
    "    job_node.visiting = False\n",
    "    ordered_jobs.append(job_node.job)\n",
    "\n",
    "\n",
    "def topological_sort(jobs: List[int], deps: List[List[int]]) -> List[int]:\n",
    "    job_graph: JobGraph = build_graph(jobs, deps)\n",
    "    return get_ordered_jobs(job_graph)\n",
    "    "
   ]
  },
  {
   "cell_type": "code",
   "execution_count": 16,
   "id": "9b285c8f-60db-4c6d-b4e6-5e00d9d64ed5",
   "metadata": {},
   "outputs": [
    {
     "data": {
      "text/plain": [
       "[4, 1, 3, 2]"
      ]
     },
     "execution_count": 16,
     "metadata": {},
     "output_type": "execute_result"
    }
   ],
   "source": [
    "jobs = [1, 2, 3, 4]\n",
    "deps = [[1, 2], [1, 3], [3, 2], [4, 2], [4, 3]]\n",
    "topological_sort(jobs, deps)"
   ]
  },
  {
   "cell_type": "markdown",
   "id": "a302b324-b847-4878-89c8-adfc0fb959b8",
   "metadata": {},
   "source": [
    "### 1.1.2 Complexity Analysis"
   ]
  },
  {
   "cell_type": "markdown",
   "id": "f912c706-c6cf-423b-8243-0d183bfd4897",
   "metadata": {},
   "source": [
    "Time: O(j + d)  \n",
    "Space: O(j + d)"
   ]
  },
  {
   "cell_type": "markdown",
   "id": "6ad1983f-d76f-4dd3-9a52-502c0bff4647",
   "metadata": {},
   "source": [
    "## 1.2 Method Two: Kahn Algorithm"
   ]
  },
  {
   "cell_type": "markdown",
   "id": "e16b6a4b-b3fc-4d6f-95c4-a04c17d74ef4",
   "metadata": {},
   "source": [
    "### 1.2.1 Implementation"
   ]
  },
  {
   "cell_type": "code",
   "execution_count": 19,
   "id": "da7fea99-1aea-4411-8e81-9f2321aa7c81",
   "metadata": {},
   "outputs": [],
   "source": [
    "from typing import List, Dict\n",
    "\n",
    "class JobNode:\n",
    "\n",
    "    def __init__(self, job: int) -> None:\n",
    "        self.job: int = job\n",
    "        self.prereqs_number: int = 0\n",
    "        self.prereqs: List[JobNode] = []\n",
    "\n",
    "    def add_prereq(self, prereq_node: JobNode) -> None:\n",
    "        self.prereqs.append(prereq_node)\n",
    "\n",
    "    def __repr__(self) -> str:\n",
    "        return f\"JobNode(job={self.job}, prereqs={self.prereqs}, visited={self.visited}, visiting={self.visiting})\"\n",
    "\n",
    "\n",
    "class JobGraph:\n",
    "\n",
    "    def __init__(self, jobs: List[int]) -> None:\n",
    "        self.jobs: List[int] = jobs\n",
    "        self.nodes: List[JobNode] = []\n",
    "        self.graph: Dict[int, JobNode] = {}\n",
    "        for job in self.jobs:\n",
    "            self.add_node(job)\n",
    "\n",
    "    def get_node(self, job) -> JobNode:\n",
    "        return self.graph[job]\n",
    "        \n",
    "    def add_node(self, job: int) -> None:\n",
    "        self.graph[job] = JobNode(job)\n",
    "        self.nodes.append(self.graph[job])\n",
    "\n",
    "    def __repr__(self) -> str:\n",
    "        return f\"JobGraph(jobs={self.jobs}, nodes={self.nodes}, graph={self.graph})\"\n",
    "\n",
    "    "
   ]
  },
  {
   "cell_type": "code",
   "execution_count": null,
   "id": "4fc981c5-7581-40bc-9d84-201050032937",
   "metadata": {},
   "outputs": [],
   "source": []
  },
  {
   "cell_type": "markdown",
   "id": "78ffdfe4-86c4-4f7e-a51b-9b8c83122afc",
   "metadata": {},
   "source": [
    "### 1.2.2 Complexity Analysis"
   ]
  },
  {
   "cell_type": "markdown",
   "id": "efa96f4d-336d-4d35-b064-367f8d89146b",
   "metadata": {},
   "source": []
  }
 ],
 "metadata": {
  "kernelspec": {
   "display_name": "Python 3 (ipykernel)",
   "language": "python",
   "name": "python3"
  },
  "language_info": {
   "codemirror_mode": {
    "name": "ipython",
    "version": 3
   },
   "file_extension": ".py",
   "mimetype": "text/x-python",
   "name": "python",
   "nbconvert_exporter": "python",
   "pygments_lexer": "ipython3",
   "version": "3.12.4"
  }
 },
 "nbformat": 4,
 "nbformat_minor": 5
}
