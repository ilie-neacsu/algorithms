{
 "cells": [
  {
   "cell_type": "markdown",
   "id": "d9a2b372-0e08-407d-b2c0-310037dfb0b1",
   "metadata": {},
   "source": [
    "# Heaps"
   ]
  },
  {
   "cell_type": "markdown",
   "id": "c9a312f8-8bbf-41fe-8e9d-be0e79bbb7e1",
   "metadata": {},
   "source": [
    "## MinHeap Construction"
   ]
  },
  {
   "cell_type": "markdown",
   "id": "c3d8bddc-dfbd-405e-a38a-4920a6ceb12c",
   "metadata": {},
   "source": [
    "Accessing elements in a heap:\n",
    "\n",
    "* current_node -> i  \n",
    "* child_one -> 2i + 1  \n",
    "* child_two -> 2i + 2  \n",
    "* parent_node -> floor((i - 1) / 2)"
   ]
  },
  {
   "cell_type": "code",
   "execution_count": 28,
   "id": "3a9c5577-6992-40de-a71e-4b2764ba7cbb",
   "metadata": {},
   "outputs": [],
   "source": [
    "import copy\n",
    "\n",
    "class MinHeap:\n",
    "\n",
    "    class MinHeapIterator:\n",
    "\n",
    "    def __init__(self, min_heap):\n",
    "        self.min_heap = MinHeap(copy.copy(min_heap.array))\n",
    "\n",
    "    def __next__(self):\n",
    "        if self.min_heap:\n",
    "            return self.min_heap.remove()\n",
    "        else:\n",
    "            raise StopIteration\n",
    "    \n",
    "    def __init__(self, array):\n",
    "        self.array = self.__build_heap(array)\n",
    "\n",
    "    def peek(self):\n",
    "        return self.array[0]\n",
    "\n",
    "    def remove(self):\n",
    "        self.__swap(0, len(self.array) - 1, self.array)\n",
    "        min_value = self.array.pop()\n",
    "        self.__sift_down(0, len(self.array) -1, self.array)\n",
    "        return min_value\n",
    "\n",
    "    def insert(self, value):\n",
    "        self.append(value)\n",
    "        self.__sift_up(len(self.array) - 1, self.array)\n",
    "\n",
    "    def __build_heap(self, array):\n",
    "        first_parent = (len(array) - 1) // 2\n",
    "        for parent in reversed(range(first_parent + 1)):\n",
    "            self.__sift_down(parent, len(array) - 1, array)\n",
    "        return array\n",
    "\n",
    "    def __sift_down(self, cidx, endidx, array):\n",
    "        \n",
    "        child_one_idx = 2 * cidx + 1\n",
    "        \n",
    "        while child_one_idx <= endidx:\n",
    "            \n",
    "            child_two_idx = cidx * 2 + 2 if cidx * 2 + 2 <= endidx else -1\n",
    "            \n",
    "            if child_two_idx != -1 and array[child_two_idx] < array[child_one_idx]:\n",
    "                potential_swap_idx = child_two_idx\n",
    "            else:\n",
    "                potential_swap_idx = child_one_idx\n",
    "            \n",
    "            if array[potential_swap_idx] < array[cidx]:\n",
    "                self.__swap(cidx, potential_swap_idx, array)\n",
    "                cidx = potential_swap_idx\n",
    "                child_one_idx = cidx * 2 + 1\n",
    "            else:\n",
    "                break\n",
    "                \n",
    "    def __sift_up(self, cidx, array):\n",
    "        \n",
    "        parent_idx = (idx - 1) // 2\n",
    "        \n",
    "        while idx > 0 and array[cidx] < array[parent_idx]:\n",
    "            self.swap(cidx, parent_idx, array)\n",
    "            idx = parent_idx\n",
    "            parent_idx = (idx - 1) // 2\n",
    "\n",
    "    def __swap(self, idx1, idx2, array):\n",
    "        array[idx1], array[idx2] = array[idx2], array[idx1]\n",
    "\n",
    "    def __len__(self):\n",
    "        return len(self.array)\n",
    "\n",
    "    def __iter__(self):\n",
    "        return MinHeapIterator(self)\n",
    "\n",
    "    def __str__(self):\n",
    "        return f\"MinHeap(array={self.array})\"\n",
    "        "
   ]
  },
  {
   "cell_type": "code",
   "execution_count": 29,
   "id": "5411408f-bb72-4a46-bf1b-ce84978c4bf4",
   "metadata": {},
   "outputs": [
    {
     "name": "stdout",
     "output_type": "stream",
     "text": [
      "MinHeap(array=[-5, 2, 6, 7, 8, 8, 24, 391, 24, 56, 12, 24, 48, 41])\n",
      "[-5, 2, 6, 7, 8, 8, 12, 24, 24, 24, 41, 48, 56, 391]\n"
     ]
    }
   ],
   "source": [
    "list = [48, 12, 24, 7, 8, -5, 24, 391, 24, 56, 2, 6, 8, 41]\n",
    "min_heap = MinHeap(list)\n",
    "print(min_heap)\n",
    "print([elem for elem in min_heap])"
   ]
  },
  {
   "cell_type": "code",
   "execution_count": null,
   "id": "e8d41394-b5ad-469b-b2c3-b7ff518ec670",
   "metadata": {},
   "outputs": [],
   "source": []
  }
 ],
 "metadata": {
  "kernelspec": {
   "display_name": "Python 3 (ipykernel)",
   "language": "python",
   "name": "python3"
  },
  "language_info": {
   "codemirror_mode": {
    "name": "ipython",
    "version": 3
   },
   "file_extension": ".py",
   "mimetype": "text/x-python",
   "name": "python",
   "nbconvert_exporter": "python",
   "pygments_lexer": "ipython3",
   "version": "3.12.4"
  }
 },
 "nbformat": 4,
 "nbformat_minor": 5
}
